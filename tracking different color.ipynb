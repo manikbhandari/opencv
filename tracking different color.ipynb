{
 "cells": [
  {
   "cell_type": "code",
   "execution_count": 1,
   "metadata": {
    "collapsed": true
   },
   "outputs": [],
   "source": [
    "import cv2\n",
    "import numpy as np"
   ]
  },
  {
   "cell_type": "markdown",
   "metadata": {},
   "source": [
    "## Exercise:\n",
    "### Track red, blue and green together in video"
   ]
  },
  {
   "cell_type": "code",
   "execution_count": 3,
   "metadata": {
    "collapsed": false
   },
   "outputs": [
    {
     "name": "stdout",
     "output_type": "stream",
     "text": [
      "[[[120 255 255]]]\n"
     ]
    }
   ],
   "source": [
    "bl = np.uint8([[[255,0,0]]])\n",
    "hsv_bl = cv2.cvtColor(bl,cv2.COLOR_BGR2HSV)\n",
    "print hsv_bl"
   ]
  },
  {
   "cell_type": "code",
   "execution_count": 5,
   "metadata": {
    "collapsed": false
   },
   "outputs": [
    {
     "name": "stdout",
     "output_type": "stream",
     "text": [
      "[[[  0 255 255]]]\n"
     ]
    }
   ],
   "source": [
    "rd = np.uint8([[[0,0,255]]])\n",
    "hsv_rd = cv2.cvtColor(rd,cv2.COLOR_BGR2HSV)\n",
    "print hsv_rd"
   ]
  },
  {
   "cell_type": "code",
   "execution_count": 6,
   "metadata": {
    "collapsed": false
   },
   "outputs": [
    {
     "name": "stdout",
     "output_type": "stream",
     "text": [
      "[[[ 60 255 255]]]\n"
     ]
    }
   ],
   "source": [
    "gr = np.uint8([[[0,255,0]]])\n",
    "hsv_gr = cv2.cvtColor(gr,cv2.COLOR_BGR2HSV)\n",
    "print hsv_gr"
   ]
  },
  {
   "cell_type": "code",
   "execution_count": 7,
   "metadata": {
    "collapsed": false
   },
   "outputs": [],
   "source": [
    "cap = cv2.VideoCapture(0)\n",
    "while(1):\n",
    "    _, frame  = cap.read()\n",
    "    hsv = cv2.cvtColor(frame,cv2.COLOR_BGR2HSV)\n",
    "    lower_blue = np.array([110,50,50])\n",
    "    upper_blue = np.array([130,255,255])\n",
    "    lower_green = np.array([50,50,50])\n",
    "    upper_green = np.array([70,255,255])\n",
    "    lower_red = np.array([0,50,50])\n",
    "    upper_red = np.array([20,255,255])\n",
    "    mask1 = cv2.inRange(hsv,lower_blue,upper_blue)\n",
    "    res1 = cv2.bitwise_and(frame,frame,mask= mask1)\n",
    "    mask2 = cv2.inRange(hsv,lower_green,upper_green)\n",
    "    res2 = cv2.bitwise_and(frame,frame,mask= mask2)\n",
    "    mask3 = cv2.inRange(hsv,lower_red,upper_red)\n",
    "    res3 = cv2.bitwise_and(frame,frame,mask= mask3)\n",
    "    temp = cv2.add(res1,res2)\n",
    "    res = cv2.add(temp,res3)\n",
    "    cv2.imshow('frame',frame)\n",
    "    #cv2.imshow('mask',mask)\n",
    "    cv2.imshow('res',res)\n",
    "    k = cv2.waitKey(5) & 0xFF\n",
    "    if k == 27:\n",
    "        break\n",
    "\n",
    "cv2.destroyAllWindows()"
   ]
  },
  {
   "cell_type": "code",
   "execution_count": null,
   "metadata": {
    "collapsed": true
   },
   "outputs": [],
   "source": []
  }
 ],
 "metadata": {
  "kernelspec": {
   "display_name": "Python 2",
   "language": "python",
   "name": "python2"
  },
  "language_info": {
   "codemirror_mode": {
    "name": "ipython",
    "version": 2
   },
   "file_extension": ".py",
   "mimetype": "text/x-python",
   "name": "python",
   "nbconvert_exporter": "python",
   "pygments_lexer": "ipython2",
   "version": "2.7.11"
  }
 },
 "nbformat": 4,
 "nbformat_minor": 0
}
